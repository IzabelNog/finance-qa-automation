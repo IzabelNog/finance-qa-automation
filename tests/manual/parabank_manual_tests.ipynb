{
 "cells": [
  {
   "cell_type": "markdown",
   "id": "8b5a4d61",
   "metadata": {},
   "source": [
    "### Test Case 1 – Registration\n",
    "**ID**: TC001  \n",
    "**Module**: Registration  \n",
    "**Priority**: High  \n",
    "**Objective**: Verify that when a valid registration is completed, the user account is created and the user is automatically logged in and redirected to the account page.  \n",
    "\n",
    "\n",
    "**Steps**\n",
    "1. Go to [Parabank](https://parabank.parasoft.com/parabank/index.htm)  \n",
    "2. Click **Register** link  \n",
    "3. Fill all required fields with fictional data  \n",
    "4. Click **Register** button  \n",
    "\n",
    "**Expected Result**  \n",
    "- User is successfully registered \"Your account was created successfully. You are now logged in.\"  and redirected to the account/dashboard page."
   ]
  },
  {
   "cell_type": "markdown",
   "id": "de42777a",
   "metadata": {},
   "source": []
  },
  {
   "cell_type": "markdown",
   "id": "75906637",
   "metadata": {},
   "source": [
    "### Test Case 2 – Login\n",
    "**ID**: TC002  \n",
    "**Module**: Login  \n",
    "**Priority**: High  \n",
    "**Objective**: Verify that a registered user can successfully log in with valid credentials and is redirected to the account/dashboard page.  \n",
    "**Preconditions**: User has a valid registered account on ParaBank.  \n",
    " \n",
    "\n",
    "**Steps**\n",
    "1. Go to [Parabank](https://parabank.parasoft.com/parabank/index.htm)   \n",
    "2. Enter valid username and password  \n",
    "3. Click **Login**  \n",
    "\n",
    "**Expected Result**  \n",
    "- User is logged in and redirected to the 'Accounts Overview' page."
   ]
  },
  {
   "cell_type": "markdown",
   "id": "bd8ad1a5",
   "metadata": {},
   "source": []
  },
  {
   "cell_type": "markdown",
   "id": "b3916dd0",
   "metadata": {},
   "source": [
    "### Test Case 3 – Login\n",
    "**ID**: TC003  \n",
    "**Module**: Open New Account  \n",
    "**Priority**: Medium  \n",
    "**Objective**: Verify that a user can successfully create a new Checking or Savings account and transfer balance from an existing account.  \n",
    "**Preconditions**: User is logged in and has at least one existing account.\n",
    "\n",
    "\n",
    "**Steps**\n",
    "1. Navigate to Open New Account page.   \n",
    "2. Navigate to Open New Account page.\n",
    "3. Select account type (Checking or Savings).\n",
    "4. Select an existing account for initial funding.\n",
    "5. Click **Open New Account**.  \n",
    "\n",
    "**Expected Result**  \n",
    "- A new account is created with the selected type \"."
   ]
  },
  {
   "cell_type": "markdown",
   "id": "ef24fef9",
   "metadata": {},
   "source": []
  },
  {
   "cell_type": "markdown",
   "id": "791d90fa",
   "metadata": {},
   "source": [
    "### Test Case 4 – Transfer funds Between Accounts\n",
    "**ID**: TC004  \n",
    "**Module**: Transfer Funds  \n",
    "**Priority**: Medium  \n",
    "**Objective**: Verify that a user can successfully transfer funds from one account to another.  \n",
    "**Preconditions**: User has at least two active accounts (source and destination).  \n",
    "\n",
    "\n",
    "**Steps**\n",
    "1. Click **Transfer Funds**.   \n",
    "2. Enter a valid amount in the Amount.\n",
    "3. Select a From account (source account).\n",
    "4. Select a To account (destination account)..\n",
    "5. Click the Transfer button.  \n",
    "\n",
    "**Expected Result**  \n",
    "- The system displays a confirmation message:\n",
    "“Transfer Complete! $[amount] has been transferred from account #[source account] to account #[destination account].”\n",
    "\n",
    "The transaction is reflected in both account balances."
   ]
  },
  {
   "cell_type": "markdown",
   "id": "457bac15",
   "metadata": {},
   "source": [
    "### Test Case 5 – Logout from ParaBank\n",
    "**ID:** TC005  \n",
    "**Module:** Logout from ParaBank  \n",
    "**Priority:** Medium  \n",
    "**Objective:** Verify that a user can successfully log out from ParaBank and end the session.  \n",
    "**Preconditions:** User is logged in with a valid registered account.  \n",
    "\n",
    "\n",
    "\n",
    "**Steps**\n",
    "1. On the ParaBank dashboard, click the **Logout link.**.\n",
    "\n",
    "**Expected Result**  \n",
    "- User is redirected to the Login page. The session is terminated and restricted pages are no longer accessible without logging in again."
   ]
  },
  {
   "cell_type": "markdown",
   "id": "726c5bed",
   "metadata": {},
   "source": []
  }
 ],
 "metadata": {
  "kernelspec": {
   "display_name": "Python 3",
   "language": "python",
   "name": "python3"
  },
  "language_info": {
   "name": "python",
   "version": "3.12.6"
  }
 },
 "nbformat": 4,
 "nbformat_minor": 5
}
